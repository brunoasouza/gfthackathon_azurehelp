{
  "cells": [
    {
      "cell_type": "code",
      "source": [],
      "outputs": [],
      "execution_count": null,
      "metadata": {}
    },
    {
      "cell_type": "markdown",
      "source": [
        "## Simple notebook to test the common functions\n",
        "\n",
        "### Imports"
      ],
      "metadata": {}
    },
    {
      "cell_type": "code",
      "source": [
        "import sys\n",
        "import os\n",
        "\n",
        "%load_ext autoreload\n",
        "%autoreload 1\n",
        "\n",
        "module_path = os.path.abspath(os.path.join('..'))\n",
        "\n",
        "if module_path not in sys.path:\n",
        "    sys.path.append(module_path)\n",
        "\n",
        "\n",
        "from baseproject.common.commonfunctions import CommonFunctions\n",
        "from baseproject.common.azuremlutils import AzureMlUtils\n",
        "from spacy.lang.fr.stop_words import STOP_WORDS\n",
        "from azureml.core import Datastore, Workspace"
      ],
      "outputs": [],
      "execution_count": null,
      "metadata": {
        "gather": {
          "logged": 1635860591558
        }
      }
    },
    {
      "cell_type": "code",
      "source": [
        "# Object instances\n",
        "ia_functions = CommonFunctions()\n",
        "azuremlutils = AzureMlUtils()"
      ],
      "outputs": [],
      "execution_count": null,
      "metadata": {
        "gather": {
          "logged": 1635860593714
        }
      }
    },
    {
      "cell_type": "markdown",
      "source": [
        "The return of this function is already a pandas dataframe\n",
        "```Python\n",
        "def read_tabular_dataset_from_azure(self, dataset_name: str, dataset_version:int = 1):\n",
        "        try:\n",
        "            dataset = Dataset.get_by_name(self.ws, name=dataset_name, version=dataset_version)\n",
        "            return dataset.to_pandas_dataframe()\n",
        "        except Exception as e:\n",
        "            logging.exception('Exception read_tabular_dataset_from_azure:')\n",
        "```"
      ],
      "metadata": {}
    },
    {
      "cell_type": "code",
      "source": [
        "# Reading the data from Azure in pandas dataframe format\n",
        "dataset = azuremlutils.read_tabular_dataset_from_azure(\"dataset-hackathon\", 2)"
      ],
      "outputs": [],
      "execution_count": null,
      "metadata": {}
    },
    {
      "cell_type": "code",
      "source": [
        "dataset.head()"
      ],
      "outputs": [],
      "execution_count": null,
      "metadata": {}
    },
    {
      "cell_type": "code",
      "source": [
        "stop_words = set(STOP_WORDS)\n",
        "remove_words = ['ah', 'ailleurs', 'allaient']"
      ],
      "outputs": [],
      "execution_count": null,
      "metadata": {}
    },
    {
      "cell_type": "code",
      "source": [
        "len(stop_words)"
      ],
      "outputs": [],
      "execution_count": null,
      "metadata": {}
    },
    {
      "cell_type": "markdown",
      "source": [
        "```Python\n",
        "def nlp_function_remove_no_stop_words(self, word_to_check: str, stop_words_list: list = set(STOP_WORDS)):\n",
        "    if word_to_check in stop_words_list:\n",
        "        stop_words_list.remove(word_to_check)\n",
        "        print(word_to_check + \" was removed\")\n",
        "    else:\n",
        "        print(word_to_check + \" doesn't exist on dictionary\")\n",
        "```"
      ],
      "metadata": {}
    },
    {
      "cell_type": "code",
      "source": [
        "# The list is passed as a reference and it will be updated automatically by the method.\n",
        "ia_functions.nlp_function_remove_no_stop_words('ailleurs', stop_words)"
      ],
      "outputs": [],
      "execution_count": null,
      "metadata": {}
    },
    {
      "cell_type": "code",
      "source": [
        "# Check if the word was removed\n",
        "len(stop_words)"
      ],
      "outputs": [],
      "execution_count": null,
      "metadata": {}
    },
    {
      "cell_type": "markdown",
      "source": [
        "```Python\n",
        "def plot_confusion_matrix(self,\n",
        "                            cf_matrix: list = [[23,  5],[ 3, 30]], \n",
        "                            annot_value: bool = True , \n",
        "                            cmap_value: str = 'Blues', \n",
        "                            fmt_value: str = '.1f',\n",
        "                            fig_size: tuple = (11.7,8.27),\n",
        "                            title: str = \"Confusion matrix\") -> None:\n",
        "\n",
        "    print(cf_matrix)\n",
        "    sns.set(rc={'figure.figsize':fig_size})\n",
        "    ax = plt.axes()\n",
        "    sns.heatmap(cf_matrix, annot=annot_value, cmap=cmap_value, fmt=fmt_value)\n",
        "    ax.set_title(title)\n",
        "    plt.show()\n",
        "```"
      ],
      "metadata": {}
    },
    {
      "cell_type": "code",
      "source": [
        "# Function plot confusion matrix\n",
        "array = [[50,  5],[ 3, 30]]\n",
        "ia_functions.plot_confusion_matrix(array)"
      ],
      "outputs": [],
      "execution_count": null,
      "metadata": {}
    },
    {
      "cell_type": "markdown",
      "source": [
        "```Python\n",
        "def create_experiment(self, experiment_name: str):\n",
        "    try:\n",
        "        experiment = Experiment(self.ws, experiment_name)\n",
        "        return experiment\n",
        "    except Exception as e:\n",
        "        logging.exception(e)\n",
        "```"
      ],
      "metadata": {}
    },
    {
      "cell_type": "code",
      "source": [
        "# Creating an experiment\n",
        "azuremlutils.create_experiment('test')"
      ],
      "outputs": [],
      "execution_count": null,
      "metadata": {}
    },
    {
      "cell_type": "markdown",
      "source": [
        "```Python\n",
        "def get_experiment(self, experiment_name: str):\n",
        "    try:\n",
        "        return self.ws.experiments[experiment_name]\n",
        "    except Exception as e:\n",
        "        logging.exception('Exception get_experiment: ')\n",
        "```"
      ],
      "metadata": {}
    },
    {
      "cell_type": "code",
      "source": [
        "# Creating an experiment\n",
        "azuremlutils.get_experiment('test')"
      ],
      "outputs": [],
      "execution_count": null,
      "metadata": {}
    },
    {
      "cell_type": "markdown",
      "source": [
        "### Saving dataframe in Azure\n",
        "\n",
        "\n",
        "To save a pandas dataframe in Azure, you need to execute the line below.\n",
        "\n",
        "To check if the file was saved. you can access the web version and follow that steps:\n",
        "\n",
        "![Azure Machine learning Dashboard](../assets/azuremldash.png \"Azure Machine learning dashboard\")\n",
        "\n",
        "![Azure Machine learning datasets list](../assets/datasets.png \"Azure Machine learning datasets list\")"
      ],
      "metadata": {}
    },
    {
      "cell_type": "code",
      "source": [
        "# Saving pandas dataframe on Azure\n",
        "azuremlutils.save_pandas_dataframe_in_azure_datastore('workspaceblobstore', 'test_save_dataframe_azure', dataset)"
      ],
      "outputs": [],
      "execution_count": null,
      "metadata": {}
    },
    {
      "cell_type": "code",
      "source": [
        "ws = Workspace.from_config()\r\n",
        "default_datastore = ws.get_default_datastore()\r\n",
        "\r\n",
        "data = await azuremlutils.read_data_from_blob(default_datastore.container_name, \"UI/10-29-2021_034203_UTC/assurance_data_processed_rnn.csv\")"
      ],
      "outputs": [],
      "execution_count": null,
      "metadata": {
        "jupyter": {
          "source_hidden": false,
          "outputs_hidden": false
        },
        "nteract": {
          "transient": {
            "deleting": false
          }
        },
        "gather": {
          "logged": 1635860598788
        }
      }
    },
    {
      "cell_type": "markdown",
      "source": [],
      "metadata": {}
    }
  ],
  "metadata": {
    "interpreter": {
      "hash": "cac4749ce6e64bfd07fafd5bf9c175e86cc05b1d81ce0d05824a22ecc489c963"
    },
    "kernelspec": {
      "name": "python38-azureml",
      "language": "python",
      "display_name": "Python 3.8 - AzureML"
    },
    "language_info": {
      "name": "python",
      "version": "3.8.1",
      "mimetype": "text/x-python",
      "codemirror_mode": {
        "name": "ipython",
        "version": 3
      },
      "pygments_lexer": "ipython3",
      "nbconvert_exporter": "python",
      "file_extension": ".py"
    },
    "orig_nbformat": 4,
    "kernel_info": {
      "name": "python38-azureml"
    },
    "nteract": {
      "version": "nteract-front-end@1.0.0"
    }
  },
  "nbformat": 4,
  "nbformat_minor": 2
}