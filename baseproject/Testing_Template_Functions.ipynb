{
  "cells": [
    {
      "cell_type": "code",
      "execution_count": null,
      "metadata": {},
      "outputs": [],
      "source": []
    },
    {
      "cell_type": "markdown",
      "metadata": {},
      "source": [
        "## Simple notebook to test the common functions\n",
        "\n",
        "### Imports"
      ]
    },
    {
      "cell_type": "code",
      "execution_count": 1,
      "metadata": {
        "gather": {
          "logged": 1635860591558
        }
      },
      "outputs": [],
      "source": [
        "import sys\n",
        "import os\n",
        "\n",
        "%load_ext autoreload\n",
        "%autoreload 1\n",
        "\n",
        "module_path = os.path.abspath(os.path.join('..'))\n",
        "\n",
        "if module_path not in sys.path:\n",
        "    sys.path.append(module_path)\n",
        "\n",
        "\n",
        "from baseproject.common.commonfunctions import CommonFunctions\n",
        "from baseproject.common.azuremlutils import AzureMlUtils\n",
        "from spacy.lang.fr.stop_words import STOP_WORDS\n",
        "from azureml.core import Datastore, Workspace"
      ]
    },
    {
      "cell_type": "code",
      "execution_count": 2,
      "metadata": {
        "gather": {
          "logged": 1635860593714
        }
      },
      "outputs": [],
      "source": [
        "# Object instances\n",
        "ia_functions = CommonFunctions()\n",
        "azuremlutils = AzureMlUtils()"
      ]
    },
    {
      "cell_type": "markdown",
      "metadata": {},
      "source": [
        "The return of this function is already a pandas dataframe\n",
        "```Python\n",
        "def read_tabular_dataset_from_azure(self, dataset_name: str, dataset_version:int = 1):\n",
        "        try:\n",
        "            dataset = Dataset.get_by_name(self.ws, name=dataset_name, version=dataset_version)\n",
        "            return dataset.to_pandas_dataframe()\n",
        "        except Exception as e:\n",
        "            logging.exception('Exception read_tabular_dataset_from_azure:')\n",
        "```"
      ]
    },
    {
      "cell_type": "code",
      "execution_count": null,
      "metadata": {},
      "outputs": [],
      "source": [
        "# Reading the data from Azure in pandas dataframe format\n",
        "dataset = azuremlutils.read_tabular_dataset_from_azure(\"dataset-hackathon\", 2)"
      ]
    },
    {
      "cell_type": "code",
      "execution_count": null,
      "metadata": {},
      "outputs": [],
      "source": [
        "dataset.head()"
      ]
    },
    {
      "cell_type": "code",
      "execution_count": null,
      "metadata": {},
      "outputs": [],
      "source": [
        "stop_words = set(STOP_WORDS)\n",
        "remove_words = ['ah', 'ailleurs', 'allaient']"
      ]
    },
    {
      "cell_type": "code",
      "execution_count": null,
      "metadata": {},
      "outputs": [],
      "source": [
        "len(stop_words)"
      ]
    },
    {
      "cell_type": "markdown",
      "metadata": {},
      "source": [
        "```Python\n",
        "def nlp_function_remove_no_stop_words(self, word_to_check: str, stop_words_list: list = set(STOP_WORDS)):\n",
        "    if word_to_check in stop_words_list:\n",
        "        stop_words_list.remove(word_to_check)\n",
        "        print(word_to_check + \" was removed\")\n",
        "    else:\n",
        "        print(word_to_check + \" doesn't exist on dictionary\")\n",
        "```"
      ]
    },
    {
      "cell_type": "code",
      "execution_count": null,
      "metadata": {},
      "outputs": [],
      "source": [
        "# The list is passed as a reference and it will be updated automatically by the method.\n",
        "ia_functions.nlp_function_remove_no_stop_words('ailleurs', stop_words)"
      ]
    },
    {
      "cell_type": "code",
      "execution_count": null,
      "metadata": {},
      "outputs": [],
      "source": [
        "# Check if the word was removed\n",
        "len(stop_words)"
      ]
    },
    {
      "cell_type": "markdown",
      "metadata": {},
      "source": [
        "```Python\n",
        "def plot_confusion_matrix(self,\n",
        "                            cf_matrix: list = [[23,  5],[ 3, 30]], \n",
        "                            annot_value: bool = True , \n",
        "                            cmap_value: str = 'Blues', \n",
        "                            fmt_value: str = '.1f',\n",
        "                            fig_size: tuple = (11.7,8.27),\n",
        "                            title: str = \"Confusion matrix\") -> None:\n",
        "\n",
        "    print(cf_matrix)\n",
        "    sns.set(rc={'figure.figsize':fig_size})\n",
        "    ax = plt.axes()\n",
        "    sns.heatmap(cf_matrix, annot=annot_value, cmap=cmap_value, fmt=fmt_value)\n",
        "    ax.set_title(title)\n",
        "    plt.show()\n",
        "```"
      ]
    },
    {
      "cell_type": "code",
      "execution_count": null,
      "metadata": {},
      "outputs": [],
      "source": [
        "# Function plot confusion matrix\n",
        "array = [[50,  5],[ 3, 30]]\n",
        "ia_functions.plot_confusion_matrix(array)"
      ]
    },
    {
      "cell_type": "markdown",
      "metadata": {},
      "source": [
        "```Python\n",
        "def create_experiment(self, experiment_name: str):\n",
        "    try:\n",
        "        experiment = Experiment(self.ws, experiment_name)\n",
        "        return experiment\n",
        "    except Exception as e:\n",
        "        logging.exception(e)\n",
        "```"
      ]
    },
    {
      "cell_type": "code",
      "execution_count": null,
      "metadata": {},
      "outputs": [],
      "source": [
        "# Creating an experiment\n",
        "azuremlutils.create_experiment('test')"
      ]
    },
    {
      "cell_type": "markdown",
      "metadata": {},
      "source": [
        "```Python\n",
        "def get_experiment(self, experiment_name: str):\n",
        "    try:\n",
        "        return self.ws.experiments[experiment_name]\n",
        "    except Exception as e:\n",
        "        logging.exception('Exception get_experiment: ')\n",
        "```"
      ]
    },
    {
      "cell_type": "code",
      "execution_count": null,
      "metadata": {},
      "outputs": [],
      "source": [
        "# Creating an experiment\n",
        "azuremlutils.get_experiment('test')"
      ]
    },
    {
      "cell_type": "markdown",
      "metadata": {},
      "source": [
        "### Saving dataframe in Azure\n",
        "\n",
        "\n",
        "To save a pandas dataframe in Azure, you need to execute the line below.\n",
        "\n",
        "To check if the file was saved. you can access the web version and follow that steps:\n",
        "\n",
        "![Azure Machine learning Dashboard](../assets/azuremldash.png \"Azure Machine learning dashboard\")\n",
        "\n",
        "![Azure Machine learning datasets list](../assets/datasets.png \"Azure Machine learning datasets list\")"
      ]
    },
    {
      "cell_type": "code",
      "execution_count": null,
      "metadata": {},
      "outputs": [],
      "source": [
        "# Saving pandas dataframe on Azure\n",
        "azuremlutils.save_pandas_dataframe_in_azure_datastore('workspaceblobstore', 'test_save_dataframe_azure', dataset)"
      ]
    },
    {
      "cell_type": "code",
      "execution_count": null,
      "metadata": {
        "gather": {
          "logged": 1635860598788
        },
        "jupyter": {
          "outputs_hidden": false,
          "source_hidden": false
        },
        "nteract": {
          "transient": {
            "deleting": false
          }
        }
      },
      "outputs": [],
      "source": [
        "ws = Workspace.from_config()\n",
        "default_datastore = ws.get_default_datastore()\n",
        "\n",
        "data = await azuremlutils.read_data_from_blob(default_datastore.container_name, \"UI/10-29-2021_034203_UTC/assurance_data_processed_rnn.csv\")"
      ]
    },
    {
      "cell_type": "markdown",
      "metadata": {},
      "source": []
    },
    {
      "cell_type": "markdown",
      "metadata": {},
      "source": [
        "## Create experiment, to register and deploy a machine learning model"
      ]
    },
    {
      "cell_type": "code",
      "execution_count": null,
      "metadata": {},
      "outputs": [],
      "source": [
        "mlflow_experiment = azuremlutils.create_experiment_with_mlflow(\"test\")"
      ]
    },
    {
      "cell_type": "code",
      "execution_count": null,
      "metadata": {},
      "outputs": [],
      "source": [
        "with mlflow_experiment.start_run() as run:\n",
        "    try:\n",
        "        # samples and labels\n",
        "        X = df_data.iloc[:,7]\n",
        "        y = df_data.iloc[:,8]\n",
        "\n",
        "        # Applying LabelEncoder\n",
        "        label_encoder = LabelEncoder()\n",
        "        y = label_encoder.fit_transform(y)\n",
        "\n",
        "        vectorizer = TfidfVectorizer(min_df = 2)\n",
        "\n",
        "        X = vectorizer.fit_transform(X)\n",
        "        X_train, X_test, y_train, y_test = train_test_split(X, y, test_size=0.33, random_state=42) \n",
        "        print(X_train.shape, y_train.shape, X_test.shape, y_test.shape, sep = '\\n')\n",
        "\n",
        "        SVM_ = CalibratedClassifierCV(LinearSVC())\n",
        "\n",
        "        SVM_.fit(X_train, y_train)\n",
        "\n",
        "        pickle.dump(vectorizer, open('vectorizer.pkl',\"wb\"))\n",
        "\n",
        "        pickle.dump(label_encoder, open('label_encoder.pkl',\"wb\"))\n",
        "        # saving vectorizer\n",
        "        mlflow_experiment.log_artifact(\"label_encoder.pkl\", artifact_path=\"outputs/label_encoder/label_encoder.pkl\")\n",
        "        # saving vectorizer\n",
        "        mlflow_experiment.log_artifact(\"vectorizer.pkl\", artifact_path=\"outputs/vectorizer/vectorizer.pkl\")\n",
        "        # saving model\n",
        "        mlflow_experiment.sklearn.log_model(SVM_, artifact_path=\"outputs\")\n",
        "\n",
        "\n",
        "        y_pred = SVM_.predict(X_test)\n",
        "\n",
        "        cf_matrix = confusion_matrix(y_test, y_pred)\n",
        "    \n",
        "        metrics = classification_report(y_test, y_pred, target_names=label_encoder.classes_, output_dict=True)\n",
        "        \n",
        "        mlflow_experiment.log_metric(\"accuracy\", metrics[\"accuracy\"])    \n",
        "        mlflow_experiment.log_metrics({str(key1): float(value) for (key1, value) in metrics[\"Negative\"].items()})\n",
        "        mlflow_experiment.log_metrics({str(key1): float(value) for (key1, value) in metrics[\"Positive\"].items()})\n",
        "        mlflow_experiment.log_metrics({str(key1): float(value) for (key1, value) in metrics[\"Neutral\"].items()})\n",
        "        \n",
        "        fig = plt.figure(1)\n",
        "        image = ia_functions.plot_confusion_matrix(cf_matrix)\n",
        "        fig.savefig(\"confusion_matrix.png\")\n",
        "        mlflow_experiment.log_artifact(\"confusion_matrix.png\")\n",
        "    except Exception as e:\n",
        "        print('Experiment Failed:' + str(e))\n",
        "        mlflow_experiment.end_run()"
      ]
    },
    {
      "cell_type": "markdown",
      "metadata": {},
      "source": [
        "### Registering a experiment"
      ]
    },
    {
      "cell_type": "code",
      "execution_count": null,
      "metadata": {},
      "outputs": [],
      "source": [
        "result_extraction = mlflow_experiment.register_model(rund_id, folder_path, model_name)"
      ]
    },
    {
      "cell_type": "markdown",
      "metadata": {},
      "source": [
        "## Get registred model"
      ]
    },
    {
      "cell_type": "code",
      "execution_count": null,
      "metadata": {},
      "outputs": [],
      "source": [
        "from azureml.core.model import Model\n",
        "model = Model(ws, model_name, version=6)"
      ]
    },
    {
      "cell_type": "markdown",
      "metadata": {},
      "source": [
        "## Create an Environment"
      ]
    },
    {
      "cell_type": "code",
      "execution_count": null,
      "metadata": {},
      "outputs": [],
      "source": [
        "from azureml.core.environment import Environment\n",
        "\n",
        "environment = Environment(\"LocalDeploy\")\n",
        "environment.python.conda_dependencies.add_pip_package(\"inference-schema[numpy-support]\")\n",
        "environment.python.conda_dependencies.add_pip_package(\"joblib\")\n",
        "environment.python.conda_dependencies.add_pip_package(\"scikit-learn=={}\".format(sklearn.__version__))"
      ]
    },
    {
      "cell_type": "markdown",
      "metadata": {},
      "source": [
        "## Inference code"
      ]
    },
    {
      "cell_type": "code",
      "execution_count": null,
      "metadata": {},
      "outputs": [],
      "source": [
        "# Inference code\n",
        "\n",
        "from azureml.core.model import InferenceConfig\n",
        "\n",
        "inference_config = InferenceConfig(entry_script=\"predict.py\",\n",
        "                                   environment=environment)"
      ]
    },
    {
      "cell_type": "markdown",
      "metadata": {},
      "source": [
        "## Deploy "
      ]
    },
    {
      "cell_type": "code",
      "execution_count": null,
      "metadata": {},
      "outputs": [],
      "source": [
        "## Deploy \n",
        "from azureml.core.webservice import LocalWebservice\n",
        "from azureml.core.model import Model\n",
        "\n",
        "# This is optional, if not provided Docker will choose a random unused port.\n",
        "deployment_config = LocalWebservice.deploy_configuration(port=6789)\n",
        "\n",
        "\n",
        "local_service = Model.deploy(ws, \"nlp-hackathon-model-2\", [model], inference_config)\n",
        "\n",
        "local_service.wait_for_deployment()"
      ]
    }
  ],
  "metadata": {
    "interpreter": {
      "hash": "cac4749ce6e64bfd07fafd5bf9c175e86cc05b1d81ce0d05824a22ecc489c963"
    },
    "kernel_info": {
      "name": "python38-azureml"
    },
    "kernelspec": {
      "display_name": "Python 3.8 - AzureML",
      "language": "python",
      "name": "python3"
    },
    "language_info": {
      "codemirror_mode": {
        "name": "ipython",
        "version": 3
      },
      "file_extension": ".py",
      "mimetype": "text/x-python",
      "name": "python",
      "nbconvert_exporter": "python",
      "pygments_lexer": "ipython3",
      "version": "3.6.9"
    },
    "nteract": {
      "version": "nteract-front-end@1.0.0"
    },
    "orig_nbformat": 4
  },
  "nbformat": 4,
  "nbformat_minor": 2
}
